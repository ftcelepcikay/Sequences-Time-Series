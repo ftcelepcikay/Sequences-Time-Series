{
  "nbformat": 4,
  "nbformat_minor": 0,
  "metadata": {
    "colab": {
      "name": "S+P Week 2 Lesson 2.ipynb",
      "provenance": [],
      "toc_visible": true,
      "include_colab_link": true
    },
    "kernelspec": {
      "display_name": "Python 3",
      "name": "python3"
    }
  },
  "cells": [
    {
      "cell_type": "markdown",
      "metadata": {
        "id": "view-in-github",
        "colab_type": "text"
      },
      "source": [
        "<a href=\"https://colab.research.google.com/github/ftcelepcikay/Sequences-Time-Series/blob/master/S%2BP_Week_2_Lesson_2.ipynb\" target=\"_parent\"><img src=\"https://colab.research.google.com/assets/colab-badge.svg\" alt=\"Open In Colab\"/></a>"
      ]
    },
    {
      "cell_type": "code",
      "metadata": {
        "id": "zX4Kg8DUTKWO",
        "colab_type": "code",
        "colab": {}
      },
      "source": [
        "#@title Licensed under the Apache License, Version 2.0 (the \"License\");\n",
        "# you may not use this file except in compliance with the License.\n",
        "# You may obtain a copy of the License at\n",
        "#\n",
        "# https://www.apache.org/licenses/LICENSE-2.0\n",
        "#\n",
        "# Unless required by applicable law or agreed to in writing, software\n",
        "# distributed under the License is distributed on an \"AS IS\" BASIS,\n",
        "# WITHOUT WARRANTIES OR CONDITIONS OF ANY KIND, either express or implied.\n",
        "# See the License for the specific language governing permissions and\n",
        "# limitations under the License."
      ],
      "execution_count": 0,
      "outputs": []
    },
    {
      "cell_type": "markdown",
      "metadata": {
        "colab_type": "text",
        "id": "view-in-github"
      },
      "source": [
        "<a href=\"https://colab.research.google.com/github/lmoroney/dlaicourse/blob/master/TensorFlow%20In%20Practice/Course%204%20-%20S%2BP/S%2BP%20Week%202%20Lesson%202.ipynb\" target=\"_parent\"><img src=\"https://colab.research.google.com/assets/colab-badge.svg\" alt=\"Open In Colab\"/></a>"
      ]
    },
    {
      "cell_type": "code",
      "metadata": {
        "colab_type": "code",
        "id": "-pwam8szRReT",
        "colab": {}
      },
      "source": [
        "try:\n",
        "  # %tensorflow_version only exists in Colab.\n",
        "  %tensorflow_version 2.x\n",
        "except Exception:\n",
        "  pass"
      ],
      "execution_count": 0,
      "outputs": []
    },
    {
      "cell_type": "code",
      "metadata": {
        "colab_type": "code",
        "id": "BOjujz601HcS",
        "outputId": "28d997d7-54d6-482d-dac5-0aeeb3d4bd4a",
        "colab": {
          "base_uri": "https://localhost:8080/",
          "height": 34
        }
      },
      "source": [
        "import tensorflow as tf\n",
        "import numpy as np\n",
        "import matplotlib.pyplot as plt\n",
        "print(tf.__version__)"
      ],
      "execution_count": 0,
      "outputs": [
        {
          "output_type": "stream",
          "text": [
            "2.2.0-rc3\n"
          ],
          "name": "stdout"
        }
      ]
    },
    {
      "cell_type": "code",
      "metadata": {
        "colab_type": "code",
        "id": "Zswl7jRtGzkk",
        "colab": {}
      },
      "source": [
        "def plot_series(time, series, format=\"-\", start=0, end=None):\n",
        "    plt.plot(time[start:end], series[start:end], format)\n",
        "    plt.xlabel(\"Time\")\n",
        "    plt.ylabel(\"Value\")\n",
        "    plt.grid(True)\n",
        "\n",
        "def trend(time, slope=0):\n",
        "    return slope * time\n",
        "\n",
        "def seasonal_pattern(season_time):\n",
        "    \"\"\"Just an arbitrary pattern, you can change it if you wish\"\"\"\n",
        "    return np.where(season_time < 0.4,\n",
        "                    np.cos(season_time * 2 * np.pi),\n",
        "                    1 / np.exp(3 * season_time))\n",
        "\n",
        "def seasonality(time, period, amplitude=1, phase=0):\n",
        "    \"\"\"Repeats the same pattern at each period\"\"\"\n",
        "    season_time = ((time + phase) % period) / period\n",
        "    return amplitude * seasonal_pattern(season_time)\n",
        "\n",
        "def noise(time, noise_level=1, seed=None):\n",
        "    rnd = np.random.RandomState(seed)\n",
        "    return rnd.randn(len(time)) * noise_level\n",
        "\n",
        "time = np.arange(4 * 365 + 1, dtype=\"float32\")\n",
        "baseline = 10\n",
        "series = trend(time, 0.1)  \n",
        "baseline = 10\n",
        "amplitude = 40\n",
        "slope = 0.05\n",
        "noise_level = 5\n",
        "\n",
        "# Create the series\n",
        "series = baseline + trend(time, slope) + seasonality(time, period=365, amplitude=amplitude)\n",
        "# Update with noise\n",
        "series += noise(time, noise_level, seed=42)\n",
        "\n",
        "split_time = 1000\n",
        "time_train = time[:split_time]\n",
        "x_train = series[:split_time]\n",
        "time_valid = time[split_time:]\n",
        "x_valid = series[split_time:]\n",
        "\n",
        "window_size = 20\n",
        "batch_size = 32\n",
        "shuffle_buffer_size = 1000"
      ],
      "execution_count": 0,
      "outputs": []
    },
    {
      "cell_type": "code",
      "metadata": {
        "colab_type": "code",
        "id": "4sTTIOCbyShY",
        "colab": {}
      },
      "source": [
        "def windowed_dataset(series, window_size, batch_size, shuffle_buffer):\n",
        "  dataset = tf.data.Dataset.from_tensor_slices(series)\n",
        "  dataset = dataset.window(window_size + 1, shift=1, drop_remainder=True)\n",
        "  dataset = dataset.flat_map(lambda window: window.batch(window_size + 1))\n",
        "  dataset = dataset.shuffle(shuffle_buffer).map(lambda window: (window[:-1], window[-1]))\n",
        "  dataset = dataset.batch(batch_size).prefetch(1)\n",
        "  return dataset"
      ],
      "execution_count": 0,
      "outputs": []
    },
    {
      "cell_type": "code",
      "metadata": {
        "colab_type": "code",
        "id": "ou-WmE2AXu6B",
        "outputId": "8b46af05-37b3-4394-99dd-c3f26fb320d7",
        "colab": {
          "base_uri": "https://localhost:8080/",
          "height": 1000
        }
      },
      "source": [
        "dataset = windowed_dataset(x_train, window_size, batch_size, shuffle_buffer_size)\n",
        "print(dataset)\n",
        "l0 = tf.keras.layers.Dense(1, input_shape=[window_size])\n",
        "model = tf.keras.models.Sequential([l0])\n",
        "\n",
        "model.compile(loss=\"mse\", optimizer=tf.keras.optimizers.SGD(lr=1e-6, momentum=0.9),metrics=['accuracy'])\n",
        "model.fit(dataset,epochs=100,verbose=1)\n",
        "\n",
        "print(\"Layer weights {}\".format(l0.get_weights()))\n"
      ],
      "execution_count": 0,
      "outputs": [
        {
          "output_type": "stream",
          "text": [
            "<PrefetchDataset shapes: ((None, None), (None,)), types: (tf.float32, tf.float32)>\n",
            "Epoch 1/100\n",
            "31/31 [==============================] - 0s 2ms/step - loss: 128.3409 - accuracy: 0.0000e+00\n",
            "Epoch 2/100\n",
            "31/31 [==============================] - 0s 2ms/step - loss: 112.6089 - accuracy: 0.0000e+00\n",
            "Epoch 3/100\n",
            "31/31 [==============================] - 0s 2ms/step - loss: 102.8199 - accuracy: 0.0000e+00\n",
            "Epoch 4/100\n",
            "31/31 [==============================] - 0s 2ms/step - loss: 96.1547 - accuracy: 0.0000e+00\n",
            "Epoch 5/100\n",
            "31/31 [==============================] - 0s 2ms/step - loss: 90.9757 - accuracy: 0.0000e+00\n",
            "Epoch 6/100\n",
            "31/31 [==============================] - 0s 2ms/step - loss: 88.0425 - accuracy: 0.0000e+00\n",
            "Epoch 7/100\n",
            "31/31 [==============================] - 0s 2ms/step - loss: 84.5219 - accuracy: 0.0000e+00\n",
            "Epoch 8/100\n",
            "31/31 [==============================] - 0s 2ms/step - loss: 82.0891 - accuracy: 0.0000e+00\n",
            "Epoch 9/100\n",
            "31/31 [==============================] - 0s 2ms/step - loss: 79.9525 - accuracy: 0.0000e+00\n",
            "Epoch 10/100\n",
            "31/31 [==============================] - 0s 2ms/step - loss: 78.4990 - accuracy: 0.0000e+00\n",
            "Epoch 11/100\n",
            "31/31 [==============================] - 0s 2ms/step - loss: 75.6198 - accuracy: 0.0000e+00\n",
            "Epoch 12/100\n",
            "31/31 [==============================] - 0s 2ms/step - loss: 74.2488 - accuracy: 0.0000e+00\n",
            "Epoch 13/100\n",
            "31/31 [==============================] - 0s 2ms/step - loss: 73.2473 - accuracy: 0.0000e+00\n",
            "Epoch 14/100\n",
            "31/31 [==============================] - 0s 2ms/step - loss: 71.1080 - accuracy: 0.0000e+00\n",
            "Epoch 15/100\n",
            "31/31 [==============================] - 0s 2ms/step - loss: 69.5154 - accuracy: 0.0000e+00\n",
            "Epoch 16/100\n",
            "31/31 [==============================] - 0s 1ms/step - loss: 68.7645 - accuracy: 0.0000e+00\n",
            "Epoch 17/100\n",
            "31/31 [==============================] - 0s 2ms/step - loss: 66.5800 - accuracy: 0.0000e+00\n",
            "Epoch 18/100\n",
            "31/31 [==============================] - 0s 2ms/step - loss: 68.4135 - accuracy: 0.0000e+00\n",
            "Epoch 19/100\n",
            "31/31 [==============================] - 0s 2ms/step - loss: 64.9107 - accuracy: 0.0000e+00\n",
            "Epoch 20/100\n",
            "31/31 [==============================] - 0s 2ms/step - loss: 63.7362 - accuracy: 0.0000e+00\n",
            "Epoch 21/100\n",
            "31/31 [==============================] - 0s 2ms/step - loss: 63.0575 - accuracy: 0.0000e+00\n",
            "Epoch 22/100\n",
            "31/31 [==============================] - 0s 2ms/step - loss: 62.2357 - accuracy: 0.0000e+00\n",
            "Epoch 23/100\n",
            "31/31 [==============================] - 0s 2ms/step - loss: 61.8421 - accuracy: 0.0000e+00\n",
            "Epoch 24/100\n",
            "31/31 [==============================] - 0s 2ms/step - loss: 60.6222 - accuracy: 0.0000e+00\n",
            "Epoch 25/100\n",
            "31/31 [==============================] - 0s 2ms/step - loss: 59.9068 - accuracy: 0.0000e+00\n",
            "Epoch 26/100\n",
            "31/31 [==============================] - 0s 2ms/step - loss: 59.0881 - accuracy: 0.0000e+00\n",
            "Epoch 27/100\n",
            "31/31 [==============================] - 0s 2ms/step - loss: 58.7276 - accuracy: 0.0000e+00\n",
            "Epoch 28/100\n",
            "31/31 [==============================] - 0s 2ms/step - loss: 57.8727 - accuracy: 0.0000e+00\n",
            "Epoch 29/100\n",
            "31/31 [==============================] - 0s 2ms/step - loss: 57.6366 - accuracy: 0.0000e+00\n",
            "Epoch 30/100\n",
            "31/31 [==============================] - 0s 2ms/step - loss: 57.6285 - accuracy: 0.0000e+00\n",
            "Epoch 31/100\n",
            "31/31 [==============================] - 0s 2ms/step - loss: 57.2017 - accuracy: 0.0000e+00\n",
            "Epoch 32/100\n",
            "31/31 [==============================] - 0s 2ms/step - loss: 56.3754 - accuracy: 0.0000e+00\n",
            "Epoch 33/100\n",
            "31/31 [==============================] - 0s 1ms/step - loss: 55.1633 - accuracy: 0.0000e+00\n",
            "Epoch 34/100\n",
            "31/31 [==============================] - 0s 2ms/step - loss: 54.2738 - accuracy: 0.0000e+00\n",
            "Epoch 35/100\n",
            "31/31 [==============================] - 0s 2ms/step - loss: 54.4137 - accuracy: 0.0000e+00\n",
            "Epoch 36/100\n",
            "31/31 [==============================] - 0s 2ms/step - loss: 53.6054 - accuracy: 0.0000e+00\n",
            "Epoch 37/100\n",
            "31/31 [==============================] - 0s 2ms/step - loss: 53.6442 - accuracy: 0.0000e+00\n",
            "Epoch 38/100\n",
            "31/31 [==============================] - 0s 2ms/step - loss: 52.7079 - accuracy: 0.0000e+00\n",
            "Epoch 39/100\n",
            "31/31 [==============================] - 0s 2ms/step - loss: 52.8683 - accuracy: 0.0000e+00\n",
            "Epoch 40/100\n",
            "31/31 [==============================] - 0s 2ms/step - loss: 52.7754 - accuracy: 0.0000e+00\n",
            "Epoch 41/100\n",
            "31/31 [==============================] - 0s 2ms/step - loss: 53.5960 - accuracy: 0.0000e+00\n",
            "Epoch 42/100\n",
            "31/31 [==============================] - 0s 2ms/step - loss: 51.3138 - accuracy: 0.0000e+00\n",
            "Epoch 43/100\n",
            "31/31 [==============================] - 0s 1ms/step - loss: 51.1686 - accuracy: 0.0000e+00\n",
            "Epoch 44/100\n",
            "31/31 [==============================] - 0s 2ms/step - loss: 51.6916 - accuracy: 0.0000e+00\n",
            "Epoch 45/100\n",
            "31/31 [==============================] - 0s 2ms/step - loss: 50.8756 - accuracy: 0.0000e+00\n",
            "Epoch 46/100\n",
            "31/31 [==============================] - 0s 2ms/step - loss: 50.3951 - accuracy: 0.0000e+00\n",
            "Epoch 47/100\n",
            "31/31 [==============================] - 0s 2ms/step - loss: 51.3143 - accuracy: 0.0000e+00\n",
            "Epoch 48/100\n",
            "31/31 [==============================] - 0s 1ms/step - loss: 49.5379 - accuracy: 0.0000e+00\n",
            "Epoch 49/100\n",
            "31/31 [==============================] - 0s 1ms/step - loss: 49.7120 - accuracy: 0.0000e+00\n",
            "Epoch 50/100\n",
            "31/31 [==============================] - 0s 2ms/step - loss: 49.5350 - accuracy: 0.0000e+00\n",
            "Epoch 51/100\n",
            "31/31 [==============================] - 0s 2ms/step - loss: 49.3066 - accuracy: 0.0000e+00\n",
            "Epoch 52/100\n",
            "31/31 [==============================] - 0s 2ms/step - loss: 48.8256 - accuracy: 0.0000e+00\n",
            "Epoch 53/100\n",
            "31/31 [==============================] - 0s 2ms/step - loss: 48.3534 - accuracy: 0.0000e+00\n",
            "Epoch 54/100\n",
            "31/31 [==============================] - 0s 2ms/step - loss: 48.6134 - accuracy: 0.0000e+00\n",
            "Epoch 55/100\n",
            "31/31 [==============================] - 0s 2ms/step - loss: 47.8844 - accuracy: 0.0000e+00\n",
            "Epoch 56/100\n",
            "31/31 [==============================] - 0s 3ms/step - loss: 48.2370 - accuracy: 0.0000e+00\n",
            "Epoch 57/100\n",
            "31/31 [==============================] - 0s 2ms/step - loss: 47.6840 - accuracy: 0.0000e+00\n",
            "Epoch 58/100\n",
            "31/31 [==============================] - 0s 2ms/step - loss: 47.6502 - accuracy: 0.0000e+00\n",
            "Epoch 59/100\n",
            "31/31 [==============================] - 0s 2ms/step - loss: 48.2751 - accuracy: 0.0000e+00\n",
            "Epoch 60/100\n",
            "31/31 [==============================] - 0s 2ms/step - loss: 47.1844 - accuracy: 0.0000e+00\n",
            "Epoch 61/100\n",
            "31/31 [==============================] - 0s 2ms/step - loss: 47.0675 - accuracy: 0.0000e+00\n",
            "Epoch 62/100\n",
            "31/31 [==============================] - 0s 2ms/step - loss: 46.7529 - accuracy: 0.0000e+00\n",
            "Epoch 63/100\n",
            "31/31 [==============================] - 0s 2ms/step - loss: 47.2044 - accuracy: 0.0000e+00\n",
            "Epoch 64/100\n",
            "31/31 [==============================] - 0s 1ms/step - loss: 46.7327 - accuracy: 0.0000e+00\n",
            "Epoch 65/100\n",
            "31/31 [==============================] - 0s 2ms/step - loss: 46.7654 - accuracy: 0.0000e+00\n",
            "Epoch 66/100\n",
            "31/31 [==============================] - 0s 2ms/step - loss: 46.1617 - accuracy: 0.0000e+00\n",
            "Epoch 67/100\n",
            "31/31 [==============================] - 0s 2ms/step - loss: 46.2829 - accuracy: 0.0000e+00\n",
            "Epoch 68/100\n",
            "31/31 [==============================] - 0s 2ms/step - loss: 46.0102 - accuracy: 0.0000e+00\n",
            "Epoch 69/100\n",
            "31/31 [==============================] - 0s 2ms/step - loss: 46.2511 - accuracy: 0.0000e+00\n",
            "Epoch 70/100\n",
            "31/31 [==============================] - 0s 1ms/step - loss: 46.6388 - accuracy: 0.0000e+00\n",
            "Epoch 71/100\n",
            "31/31 [==============================] - 0s 2ms/step - loss: 46.4366 - accuracy: 0.0000e+00\n",
            "Epoch 72/100\n",
            "31/31 [==============================] - 0s 2ms/step - loss: 46.2110 - accuracy: 0.0000e+00\n",
            "Epoch 73/100\n",
            "31/31 [==============================] - 0s 2ms/step - loss: 45.2520 - accuracy: 0.0000e+00\n",
            "Epoch 74/100\n",
            "31/31 [==============================] - 0s 2ms/step - loss: 45.9710 - accuracy: 0.0000e+00\n",
            "Epoch 75/100\n",
            "31/31 [==============================] - 0s 2ms/step - loss: 45.2560 - accuracy: 0.0000e+00\n",
            "Epoch 76/100\n",
            "31/31 [==============================] - 0s 2ms/step - loss: 45.1691 - accuracy: 0.0000e+00\n",
            "Epoch 77/100\n",
            "31/31 [==============================] - 0s 2ms/step - loss: 44.7604 - accuracy: 0.0000e+00\n",
            "Epoch 78/100\n",
            "31/31 [==============================] - 0s 2ms/step - loss: 44.8402 - accuracy: 0.0000e+00\n",
            "Epoch 79/100\n",
            "31/31 [==============================] - 0s 2ms/step - loss: 45.4448 - accuracy: 0.0000e+00\n",
            "Epoch 80/100\n",
            "31/31 [==============================] - 0s 2ms/step - loss: 45.6451 - accuracy: 0.0000e+00\n",
            "Epoch 81/100\n",
            "31/31 [==============================] - 0s 2ms/step - loss: 44.9442 - accuracy: 0.0000e+00\n",
            "Epoch 82/100\n",
            "31/31 [==============================] - 0s 2ms/step - loss: 45.1020 - accuracy: 0.0000e+00\n",
            "Epoch 83/100\n",
            "31/31 [==============================] - 0s 2ms/step - loss: 44.5494 - accuracy: 0.0000e+00\n",
            "Epoch 84/100\n",
            "31/31 [==============================] - 0s 2ms/step - loss: 44.9880 - accuracy: 0.0000e+00\n",
            "Epoch 85/100\n",
            "31/31 [==============================] - 0s 2ms/step - loss: 44.4908 - accuracy: 0.0000e+00\n",
            "Epoch 86/100\n",
            "31/31 [==============================] - 0s 2ms/step - loss: 45.1239 - accuracy: 0.0000e+00\n",
            "Epoch 87/100\n",
            "31/31 [==============================] - 0s 2ms/step - loss: 44.7055 - accuracy: 0.0000e+00\n",
            "Epoch 88/100\n",
            "31/31 [==============================] - 0s 2ms/step - loss: 45.9716 - accuracy: 0.0000e+00\n",
            "Epoch 89/100\n",
            "31/31 [==============================] - 0s 2ms/step - loss: 44.2442 - accuracy: 0.0000e+00\n",
            "Epoch 90/100\n",
            "31/31 [==============================] - 0s 2ms/step - loss: 44.2685 - accuracy: 0.0000e+00\n",
            "Epoch 91/100\n",
            "31/31 [==============================] - 0s 1ms/step - loss: 44.4849 - accuracy: 0.0000e+00\n",
            "Epoch 92/100\n",
            "31/31 [==============================] - 0s 2ms/step - loss: 44.3156 - accuracy: 0.0000e+00\n",
            "Epoch 93/100\n",
            "31/31 [==============================] - 0s 2ms/step - loss: 44.3385 - accuracy: 0.0000e+00\n",
            "Epoch 94/100\n",
            "31/31 [==============================] - 0s 3ms/step - loss: 44.6941 - accuracy: 0.0000e+00\n",
            "Epoch 95/100\n",
            "31/31 [==============================] - 0s 2ms/step - loss: 44.4943 - accuracy: 0.0000e+00\n",
            "Epoch 96/100\n",
            "31/31 [==============================] - 0s 2ms/step - loss: 44.3032 - accuracy: 0.0000e+00\n",
            "Epoch 97/100\n",
            "31/31 [==============================] - 0s 2ms/step - loss: 44.6727 - accuracy: 0.0000e+00\n",
            "Epoch 98/100\n",
            "31/31 [==============================] - 0s 2ms/step - loss: 43.6757 - accuracy: 0.0000e+00\n",
            "Epoch 99/100\n",
            "31/31 [==============================] - 0s 2ms/step - loss: 43.8355 - accuracy: 0.0000e+00\n",
            "Epoch 100/100\n",
            "31/31 [==============================] - 0s 2ms/step - loss: 43.9561 - accuracy: 0.0000e+00\n",
            "Layer weights [array([[ 0.01515517],\n",
            "       [-0.08876726],\n",
            "       [ 0.07890957],\n",
            "       [-0.03098464],\n",
            "       [ 0.00345511],\n",
            "       [ 0.02501412],\n",
            "       [-0.00045332],\n",
            "       [-0.01388863],\n",
            "       [ 0.05972926],\n",
            "       [-0.05929224],\n",
            "       [ 0.00793918],\n",
            "       [ 0.02706684],\n",
            "       [-0.10227165],\n",
            "       [ 0.07218303],\n",
            "       [ 0.03917267],\n",
            "       [ 0.03410757],\n",
            "       [ 0.02493575],\n",
            "       [ 0.23347613],\n",
            "       [ 0.23858683],\n",
            "       [ 0.42892277]], dtype=float32), array([0.01574668], dtype=float32)]\n"
          ],
          "name": "stdout"
        }
      ]
    },
    {
      "cell_type": "code",
      "metadata": {
        "colab_type": "code",
        "id": "-gtVJuLVxR-M",
        "outputId": "7a8b4505-6ef2-41c1-ce69-f0d62548085c",
        "colab": {
          "base_uri": "https://localhost:8080/",
          "height": 388
        }
      },
      "source": [
        "forecast = []\n",
        "\n",
        "for time in range(len(series) - window_size):\n",
        "  forecast.append(model.predict(series[time:time + window_size][np.newaxis]))\n",
        "\n",
        "forecast = forecast[split_time-window_size:]\n",
        "results = np.array(forecast)[:, 0, 0]\n",
        "\n",
        "\n",
        "plt.figure(figsize=(10, 6))\n",
        "\n",
        "plot_series(time_valid, x_valid)\n",
        "plot_series(time_valid, results)"
      ],
      "execution_count": 0,
      "outputs": [
        {
          "output_type": "display_data",
          "data": {
            "image/png": "[encoded data removed]",
            "text/plain": [
              "<Figure size 720x432 with 1 Axes>"
            ]
          },
          "metadata": {
            "tags": [],
            "needs_background": "light"
          }
        }
      ]
    },
    {
      "cell_type": "code",
      "metadata": {
        "colab_type": "code",
        "id": "hR2BO0Dai_ZT",
        "outputId": "508ae400-6aa2-453b-f003-39cab43551a8",
        "colab": {
          "base_uri": "https://localhost:8080/",
          "height": 34
        }
      },
      "source": [
        "tf.keras.metrics.mean_absolute_error(x_valid, results).numpy()"
      ],
      "execution_count": 0,
      "outputs": [
        {
          "output_type": "execute_result",
          "data": {
            "text/plain": [
              "4.9034896"
            ]
          },
          "metadata": {
            "tags": []
          },
          "execution_count": 13
        }
      ]
    },
    {
      "cell_type": "code",
      "metadata": {
        "id": "ndAN9-EB4cEb",
        "colab_type": "code",
        "colab": {}
      },
      "source": [
        ""
      ],
      "execution_count": 0,
      "outputs": []
    }
  ]
}