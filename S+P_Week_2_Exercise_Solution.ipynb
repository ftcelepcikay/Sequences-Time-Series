{
  "nbformat": 4,
  "nbformat_minor": 0,
  "metadata": {
    "colab": {
      "name": "S+P_Week_2_Exercise_Question.ipynb",
      "provenance": [],
      "include_colab_link": true
    },
    "kernelspec": {
      "display_name": "Python 3",
      "name": "python3"
    }
  },
  "cells": [
    {
      "cell_type": "markdown",
      "metadata": {
        "id": "view-in-github",
        "colab_type": "text"
      },
      "source": [
        "<a href=\"https://colab.research.google.com/github/ftcelepcikay/Sequences-Time-Series/blob/master/S%2BP_Week_2_Exercise_Solution.ipynb\" target=\"_parent\"><img src=\"https://colab.research.google.com/assets/colab-badge.svg\" alt=\"Open In Colab\"/></a>"
      ]
    },
    {
      "cell_type": "code",
      "metadata": {
        "id": "zX4Kg8DUTKWO",
        "colab_type": "code",
        "colab": {}
      },
      "source": [
        "#@title Licensed under the Apache License, Version 2.0 (the \"License\");\n",
        "# you may not use this file except in compliance with the License.\n",
        "# You may obtain a copy of the License at\n",
        "#\n",
        "# https://www.apache.org/licenses/LICENSE-2.0\n",
        "#\n",
        "# Unless required by applicable law or agreed to in writing, software\n",
        "# distributed under the License is distributed on an \"AS IS\" BASIS,\n",
        "# WITHOUT WARRANTIES OR CONDITIONS OF ANY KIND, either express or implied.\n",
        "# See the License for the specific language governing permissions and\n",
        "# limitations under the License."
      ],
      "execution_count": 0,
      "outputs": []
    },
    {
      "cell_type": "code",
      "metadata": {
        "cellView": "both",
        "colab_type": "code",
        "id": "D1J15Vh_1Jih",
        "outputId": "1ec26490-e4c7-40b1-b69a-e88af9b5b88e",
        "colab": {
          "base_uri": "https://localhost:8080/",
          "height": 70
        }
      },
      "source": [
        "!pip install tf-nightly-2.0-preview\n"
      ],
      "execution_count": 0,
      "outputs": [
        {
          "output_type": "stream",
          "text": [
            "\u001b[31mERROR: Could not find a version that satisfies the requirement tf-nightly-2.0-preview (from versions: none)\u001b[0m\n",
            "\u001b[31mERROR: No matching distribution found for tf-nightly-2.0-preview\u001b[0m\n"
          ],
          "name": "stdout"
        }
      ]
    },
    {
      "cell_type": "code",
      "metadata": {
        "colab_type": "code",
        "id": "BOjujz601HcS",
        "outputId": "4853d903-efb4-4d9e-d235-a2b58d8115cc",
        "colab": {
          "base_uri": "https://localhost:8080/",
          "height": 34
        }
      },
      "source": [
        "import tensorflow as tf\n",
        "import numpy as np\n",
        "import matplotlib.pyplot as plt\n",
        "print(tf.__version__)"
      ],
      "execution_count": 0,
      "outputs": [
        {
          "output_type": "stream",
          "text": [
            "2.2.0-rc4\n"
          ],
          "name": "stdout"
        }
      ]
    },
    {
      "cell_type": "code",
      "metadata": {
        "colab_type": "code",
        "id": "Zswl7jRtGzkk",
        "outputId": "d3472635-bb12-4796-9d4c-082f015f24f1",
        "colab": {
          "base_uri": "https://localhost:8080/",
          "height": 279
        }
      },
      "source": [
        "def plot_series(time, series, format=\"-\", start=0, end=None):\n",
        "    plt.plot(time[start:end], series[start:end], format)\n",
        "    plt.xlabel(\"Time\")\n",
        "    plt.ylabel(\"Value\")\n",
        "    plt.grid(False)\n",
        "\n",
        "def trend(time, slope=0):\n",
        "    return slope * time\n",
        "\n",
        "def seasonal_pattern(season_time):\n",
        "    \"\"\"Just an arbitrary pattern, you can change it if you wish\"\"\"\n",
        "    return np.where(season_time < 0.1,\n",
        "                    np.cos(season_time * 6 * np.pi),\n",
        "                    2 / np.exp(9 * season_time))\n",
        "\n",
        "def seasonality(time, period, amplitude=1, phase=0):\n",
        "    \"\"\"Repeats the same pattern at each period\"\"\"\n",
        "    season_time = ((time + phase) % period) / period\n",
        "    return amplitude * seasonal_pattern(season_time)\n",
        "\n",
        "def noise(time, noise_level=1, seed=None):\n",
        "    rnd = np.random.RandomState(seed)\n",
        "    return rnd.randn(len(time)) * noise_level\n",
        "\n",
        "time = np.arange(10 * 365 + 1, dtype=\"float32\")\n",
        "series = trend(time, 0.1)  \n",
        "baseline = 10\n",
        "amplitude = 40\n",
        "slope = 0.005\n",
        "noise_level = 3\n",
        "\n",
        "# Create the series\n",
        "series = baseline + trend(time, slope) + seasonality(time, period=365, amplitude=amplitude)\n",
        "# Update with noise\n",
        "series += noise(time, noise_level, seed=51)\n",
        "\n",
        "split_time = 3000\n",
        "time_train = time[:split_time]\n",
        "x_train = series[:split_time]\n",
        "time_valid = time[split_time:]\n",
        "x_valid = series[split_time:]\n",
        "\n",
        "window_size = 20\n",
        "batch_size = 32\n",
        "shuffle_buffer_size = 1000\n",
        "\n",
        "plot_series(time, series)"
      ],
      "execution_count": 0,
      "outputs": [
        {
          "output_type": "display_data",
          "data": {
            "image/png": "[encoded data removed]",
            "text/plain": [
              "<Figure size 432x288 with 1 Axes>"
            ]
          },
          "metadata": {
            "tags": [],
            "needs_background": "light"
          }
        }
      ]
    },
    {
      "cell_type": "markdown",
      "metadata": {
        "colab_type": "text",
        "id": "GfUTNqti_lNC"
      },
      "source": [
        "Desired output -- a chart that looks like this:\n",
        "\n",
        "![Chart showing upward trend and seasonailty](http://www.laurencemoroney.com/wp-content/uploads/2019/07/plot1.png)"
      ]
    },
    {
      "cell_type": "code",
      "metadata": {
        "colab_type": "code",
        "id": "4sTTIOCbyShY",
        "colab": {}
      },
      "source": [
        "def windowed_dataset(series, window_size, batch_size, shuffle_buffer):\n",
        "  dataset = tf.data.Dataset.from_tensor_slices(series)\n",
        "  dataset = dataset.window(window_size + 1, shift=1, drop_remainder=True)\n",
        "  dataset = dataset.flat_map(lambda window: window.batch(window_size + 1))\n",
        "  dataset = dataset.shuffle(shuffle_buffer).map(lambda window: (window[:-1], window[-1]))\n",
        "  dataset = dataset.batch(batch_size).prefetch(1)\n",
        "  return dataset"
      ],
      "execution_count": 0,
      "outputs": []
    },
    {
      "cell_type": "code",
      "metadata": {
        "colab_type": "code",
        "id": "TW-vT7eLYAdb",
        "outputId": "0b208ea4-118c-4645-87a4-becdb2a28592",
        "colab": {
          "base_uri": "https://localhost:8080/",
          "height": 1000
        }
      },
      "source": [
        "dataset = windowed_dataset(x_train, window_size, batch_size, shuffle_buffer_size)\n",
        "\n",
        "\n",
        "model = tf.keras.models.Sequential([\n",
        "    tf.keras.layers.Dense(100, input_shape=[window_size], activation=\"relu\"), \n",
        "    tf.keras.layers.Dense(10, activation=\"relu\"), \n",
        "    tf.keras.layers.Dense(1)\n",
        "])\n",
        "\n",
        "model.compile(loss=\"mse\", optimizer=tf.keras.optimizers.SGD(lr=1e-6, momentum=0.9))\n",
        "model.fit(dataset,epochs=100,verbose=1)\n"
      ],
      "execution_count": 0,
      "outputs": [
        {
          "output_type": "stream",
          "text": [
            "Epoch 1/100\n",
            "94/94 [==============================] - 0s 4ms/step - loss: 53.6274\n",
            "Epoch 2/100\n",
            "94/94 [==============================] - 0s 4ms/step - loss: 35.6772\n",
            "Epoch 3/100\n",
            "94/94 [==============================] - 0s 5ms/step - loss: 30.9572\n",
            "Epoch 4/100\n",
            "94/94 [==============================] - 0s 5ms/step - loss: 28.6470\n",
            "Epoch 5/100\n",
            "94/94 [==============================] - 0s 4ms/step - loss: 27.3251\n",
            "Epoch 6/100\n",
            "94/94 [==============================] - 0s 5ms/step - loss: 26.8864\n",
            "Epoch 7/100\n",
            "94/94 [==============================] - 0s 4ms/step - loss: 26.0156\n",
            "Epoch 8/100\n",
            "94/94 [==============================] - 0s 4ms/step - loss: 25.3543\n",
            "Epoch 9/100\n",
            "94/94 [==============================] - 0s 5ms/step - loss: 25.1089\n",
            "Epoch 10/100\n",
            "94/94 [==============================] - 0s 4ms/step - loss: 24.7851\n",
            "Epoch 11/100\n",
            "94/94 [==============================] - 0s 4ms/step - loss: 24.6071\n",
            "Epoch 12/100\n",
            "94/94 [==============================] - 0s 4ms/step - loss: 24.3844\n",
            "Epoch 13/100\n",
            "94/94 [==============================] - 0s 4ms/step - loss: 24.2271\n",
            "Epoch 14/100\n",
            "94/94 [==============================] - 0s 4ms/step - loss: 23.9984\n",
            "Epoch 15/100\n",
            "94/94 [==============================] - 0s 4ms/step - loss: 23.9953\n",
            "Epoch 16/100\n",
            "94/94 [==============================] - 0s 4ms/step - loss: 23.9092\n",
            "Epoch 17/100\n",
            "94/94 [==============================] - 0s 4ms/step - loss: 23.7391\n",
            "Epoch 18/100\n",
            "94/94 [==============================] - 0s 4ms/step - loss: 23.7070\n",
            "Epoch 19/100\n",
            "94/94 [==============================] - 0s 4ms/step - loss: 23.5946\n",
            "Epoch 20/100\n",
            "94/94 [==============================] - 0s 3ms/step - loss: 23.4622\n",
            "Epoch 21/100\n",
            "94/94 [==============================] - 0s 4ms/step - loss: 23.5677\n",
            "Epoch 22/100\n",
            "94/94 [==============================] - 0s 4ms/step - loss: 23.4759\n",
            "Epoch 23/100\n",
            "94/94 [==============================] - 0s 4ms/step - loss: 23.2626\n",
            "Epoch 24/100\n",
            "94/94 [==============================] - 0s 4ms/step - loss: 23.2043\n",
            "Epoch 25/100\n",
            "94/94 [==============================] - 0s 4ms/step - loss: 23.2421\n",
            "Epoch 26/100\n",
            "94/94 [==============================] - 0s 4ms/step - loss: 23.0579\n",
            "Epoch 27/100\n",
            "94/94 [==============================] - 0s 4ms/step - loss: 23.1221\n",
            "Epoch 28/100\n",
            "94/94 [==============================] - 0s 4ms/step - loss: 23.2108\n",
            "Epoch 29/100\n",
            "94/94 [==============================] - 0s 4ms/step - loss: 23.1293\n",
            "Epoch 30/100\n",
            "94/94 [==============================] - 0s 4ms/step - loss: 22.9143\n",
            "Epoch 31/100\n",
            "94/94 [==============================] - 0s 4ms/step - loss: 23.0621\n",
            "Epoch 32/100\n",
            "94/94 [==============================] - 0s 4ms/step - loss: 22.8549\n",
            "Epoch 33/100\n",
            "94/94 [==============================] - 0s 5ms/step - loss: 22.9115\n",
            "Epoch 34/100\n",
            "94/94 [==============================] - 0s 5ms/step - loss: 22.7202\n",
            "Epoch 35/100\n",
            "94/94 [==============================] - 0s 4ms/step - loss: 22.7315\n",
            "Epoch 36/100\n",
            "94/94 [==============================] - 0s 4ms/step - loss: 22.6134\n",
            "Epoch 37/100\n",
            "94/94 [==============================] - 0s 4ms/step - loss: 22.5403\n",
            "Epoch 38/100\n",
            "94/94 [==============================] - 0s 4ms/step - loss: 22.4383\n",
            "Epoch 39/100\n",
            "94/94 [==============================] - 0s 4ms/step - loss: 22.5072\n",
            "Epoch 40/100\n",
            "94/94 [==============================] - 0s 4ms/step - loss: 22.4313\n",
            "Epoch 41/100\n",
            "94/94 [==============================] - 0s 3ms/step - loss: 22.3581\n",
            "Epoch 42/100\n",
            "94/94 [==============================] - 0s 4ms/step - loss: 22.3672\n",
            "Epoch 43/100\n",
            "94/94 [==============================] - 0s 4ms/step - loss: 22.4133\n",
            "Epoch 44/100\n",
            "94/94 [==============================] - 0s 3ms/step - loss: 22.4141\n",
            "Epoch 45/100\n",
            "94/94 [==============================] - 0s 4ms/step - loss: 22.2619\n",
            "Epoch 46/100\n",
            "94/94 [==============================] - 0s 4ms/step - loss: 22.2739\n",
            "Epoch 47/100\n",
            "94/94 [==============================] - 0s 4ms/step - loss: 22.1605\n",
            "Epoch 48/100\n",
            "94/94 [==============================] - 0s 5ms/step - loss: 22.0725\n",
            "Epoch 49/100\n",
            "94/94 [==============================] - 0s 4ms/step - loss: 22.2392\n",
            "Epoch 50/100\n",
            "94/94 [==============================] - 0s 4ms/step - loss: 22.1891\n",
            "Epoch 51/100\n",
            "94/94 [==============================] - 0s 4ms/step - loss: 22.0701\n",
            "Epoch 52/100\n",
            "94/94 [==============================] - 0s 4ms/step - loss: 22.0324\n",
            "Epoch 53/100\n",
            "94/94 [==============================] - 0s 4ms/step - loss: 22.0272\n",
            "Epoch 54/100\n",
            "94/94 [==============================] - 1s 6ms/step - loss: 21.9844\n",
            "Epoch 55/100\n",
            "94/94 [==============================] - 0s 4ms/step - loss: 22.1026\n",
            "Epoch 56/100\n",
            "94/94 [==============================] - 1s 6ms/step - loss: 22.0334\n",
            "Epoch 57/100\n",
            "94/94 [==============================] - 1s 5ms/step - loss: 22.1685\n",
            "Epoch 58/100\n",
            "94/94 [==============================] - 0s 4ms/step - loss: 21.9734\n",
            "Epoch 59/100\n",
            "94/94 [==============================] - 0s 4ms/step - loss: 21.9923\n",
            "Epoch 60/100\n",
            "94/94 [==============================] - 0s 4ms/step - loss: 21.7886\n",
            "Epoch 61/100\n",
            "94/94 [==============================] - 0s 4ms/step - loss: 21.9599\n",
            "Epoch 62/100\n",
            "94/94 [==============================] - 0s 5ms/step - loss: 21.7447\n",
            "Epoch 63/100\n",
            "94/94 [==============================] - 1s 6ms/step - loss: 21.7512\n",
            "Epoch 64/100\n",
            "94/94 [==============================] - 0s 4ms/step - loss: 21.7523\n",
            "Epoch 65/100\n",
            "94/94 [==============================] - 0s 4ms/step - loss: 21.7818\n",
            "Epoch 66/100\n",
            "94/94 [==============================] - 0s 4ms/step - loss: 21.7000\n",
            "Epoch 67/100\n",
            "94/94 [==============================] - 0s 4ms/step - loss: 21.6938\n",
            "Epoch 68/100\n",
            "94/94 [==============================] - 0s 4ms/step - loss: 21.6433\n",
            "Epoch 69/100\n",
            "94/94 [==============================] - 0s 4ms/step - loss: 21.7343\n",
            "Epoch 70/100\n",
            "94/94 [==============================] - 0s 3ms/step - loss: 21.5817\n",
            "Epoch 71/100\n",
            "94/94 [==============================] - 0s 4ms/step - loss: 21.7120\n",
            "Epoch 72/100\n",
            "94/94 [==============================] - 0s 4ms/step - loss: 21.5940\n",
            "Epoch 73/100\n",
            "94/94 [==============================] - 0s 3ms/step - loss: 21.4918\n",
            "Epoch 74/100\n",
            "94/94 [==============================] - 0s 4ms/step - loss: 21.6461\n",
            "Epoch 75/100\n",
            "94/94 [==============================] - 0s 4ms/step - loss: 21.6060\n",
            "Epoch 76/100\n",
            "94/94 [==============================] - 0s 5ms/step - loss: 21.4883\n",
            "Epoch 77/100\n",
            "94/94 [==============================] - 0s 4ms/step - loss: 21.4629\n",
            "Epoch 78/100\n",
            "94/94 [==============================] - 0s 4ms/step - loss: 21.3960\n",
            "Epoch 79/100\n",
            "94/94 [==============================] - 0s 4ms/step - loss: 21.4115\n",
            "Epoch 80/100\n",
            "94/94 [==============================] - 0s 4ms/step - loss: 21.4386\n",
            "Epoch 81/100\n",
            "94/94 [==============================] - 0s 3ms/step - loss: 21.4137\n",
            "Epoch 82/100\n",
            "94/94 [==============================] - 0s 5ms/step - loss: 21.6774\n",
            "Epoch 83/100\n",
            "94/94 [==============================] - 0s 4ms/step - loss: 21.3885\n",
            "Epoch 84/100\n",
            "94/94 [==============================] - 0s 4ms/step - loss: 21.4415\n",
            "Epoch 85/100\n",
            "94/94 [==============================] - 0s 4ms/step - loss: 21.3396\n",
            "Epoch 86/100\n",
            "94/94 [==============================] - 0s 4ms/step - loss: 21.2872\n",
            "Epoch 87/100\n",
            "94/94 [==============================] - 0s 4ms/step - loss: 21.9951\n",
            "Epoch 88/100\n",
            "94/94 [==============================] - 0s 4ms/step - loss: 21.4117\n",
            "Epoch 89/100\n",
            "94/94 [==============================] - 0s 3ms/step - loss: 21.4394\n",
            "Epoch 90/100\n",
            "94/94 [==============================] - 0s 4ms/step - loss: 21.5594\n",
            "Epoch 91/100\n",
            "94/94 [==============================] - 0s 4ms/step - loss: 21.2501\n",
            "Epoch 92/100\n",
            "94/94 [==============================] - 0s 4ms/step - loss: 21.2436\n",
            "Epoch 93/100\n",
            "94/94 [==============================] - 0s 4ms/step - loss: 21.2708\n",
            "Epoch 94/100\n",
            "94/94 [==============================] - 1s 6ms/step - loss: 21.2606\n",
            "Epoch 95/100\n",
            "94/94 [==============================] - 0s 4ms/step - loss: 21.3435\n",
            "Epoch 96/100\n",
            "94/94 [==============================] - 1s 6ms/step - loss: 21.1941\n",
            "Epoch 97/100\n",
            "94/94 [==============================] - 0s 5ms/step - loss: 21.1734\n",
            "Epoch 98/100\n",
            "94/94 [==============================] - 0s 5ms/step - loss: 21.1695\n",
            "Epoch 99/100\n",
            "94/94 [==============================] - 0s 4ms/step - loss: 21.1641\n",
            "Epoch 100/100\n",
            "94/94 [==============================] - 0s 4ms/step - loss: 21.1316\n"
          ],
          "name": "stdout"
        },
        {
          "output_type": "execute_result",
          "data": {
            "text/plain": [
              "<tensorflow.python.keras.callbacks.History at 0x7fe3686bf780>"
            ]
          },
          "metadata": {
            "tags": []
          },
          "execution_count": 8
        }
      ]
    },
    {
      "cell_type": "code",
      "metadata": {
        "colab_type": "code",
        "id": "efhco2rYyIFF",
        "outputId": "8d17336a-6fba-4eba-a558-67b63c9f7c2e",
        "colab": {
          "base_uri": "https://localhost:8080/",
          "height": 388
        }
      },
      "source": [
        "forecast = []\n",
        "for time in range(len(series) - window_size):\n",
        "  forecast.append(model.predict(series[time:time + window_size][np.newaxis]))\n",
        "\n",
        "forecast = forecast[split_time-window_size:]\n",
        "results = np.array(forecast)[:, 0, 0]\n",
        "\n",
        "\n",
        "plt.figure(figsize=(10, 6))\n",
        "\n",
        "plot_series(time_valid, x_valid)\n",
        "plot_series(time_valid, results)"
      ],
      "execution_count": 0,
      "outputs": [
        {
          "output_type": "display_data",
          "data": {
            "image/png": "[encoded data removed]",
            "text/plain": [
              "<Figure size 720x432 with 1 Axes>"
            ]
          },
          "metadata": {
            "tags": [],
            "needs_background": "light"
          }
        }
      ]
    },
    {
      "cell_type": "code",
      "metadata": {
        "colab_type": "code",
        "id": "-kT6j186YO6K",
        "outputId": "17045a08-9455-470a-dd9a-46326213a901",
        "colab": {
          "base_uri": "https://localhost:8080/",
          "height": 34
        }
      },
      "source": [
        "tf.keras.metrics.mean_absolute_error(x_valid, results).numpy()\n",
        "# EXPECTED OUTPUT\n",
        "# A Value less than 3"
      ],
      "execution_count": 0,
      "outputs": [
        {
          "output_type": "execute_result",
          "data": {
            "text/plain": [
              "2.9648151"
            ]
          },
          "metadata": {
            "tags": []
          },
          "execution_count": 10
        }
      ]
    },
    {
      "cell_type": "code",
      "metadata": {
        "id": "4qJG_nv1hZRT",
        "colab_type": "code",
        "colab": {}
      },
      "source": [
        ""
      ],
      "execution_count": 0,
      "outputs": []
    }
  ]
}